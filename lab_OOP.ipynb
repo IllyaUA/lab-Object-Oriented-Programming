{
 "cells": [
  {
   "cell_type": "markdown",
   "id": "9f17a4bb",
   "metadata": {},
   "source": [
    "# Lab | Object Oriented Programming\n",
    "\n",
    "## Introduction\n",
    "\n",
    "In this lab you have to implement a Python class for a TV.\n",
    "\n",
    "## Constructor\n",
    "\n",
    "Crete a Python Tv class with a constructor and the following attributes:\n",
    "\n",
    "* .on (Boolean)\n",
    "* .volume (float in [0,100])\n",
    "* .active_channel (int in [1,10])\n",
    "* .input (str in [\"Anthena\", \"HDMI1\", \"HDMI2\", \"HDMI3\"])\n",
    "* .size (float in [42, 50, 55, 65, 75])\n",
    "\n",
    "## Methods\n",
    "\n",
    "* .switch_on()\n",
    "* .switch_off()\n",
    "* .set_volume(volume: int)\n",
    "* .change_channel(channel: int)\n",
    "* .set_input(value: str)"
   ]
  },
  {
   "cell_type": "code",
   "execution_count": 1,
   "id": "6012594e",
   "metadata": {},
   "outputs": [],
   "source": [
    "#create calss TV\n",
    "class TV:\n",
    "    def __init__(self, size, input='Anthena'):\n",
    "        # Constructor to initialize TV attributes\n",
    "        self.on = False  # TV is initially off\n",
    "        self.volume = 50.0  # Initial volume set to 50\n",
    "        self.active_channel = 1  # Initial active channel set to 1\n",
    "        self.input = input  # Default input is Anthena\n",
    "        self.size = size  # TV size\n",
    "\n",
    "    def switch_on(self):\n",
    "        self.on = True\n",
    "\n",
    "    def switch_off(self):\n",
    "        self.on = False\n",
    "\n",
    "    def set_volume(self, volume):\n",
    "        if self.on:\n",
    "            if 0 <= volume <= 100:\n",
    "                self.volume = float(volume)\n",
    "            else:\n",
    "                print(\"Volume must be in the range [0, 100].\")\n",
    "        else:\n",
    "            print(\"TV is off. Turn it on to adjust the volume.\")\n",
    "\n",
    "    def change_channel(self, channel):\n",
    "        if self.on:\n",
    "            if 1 <= channel <= 10:\n",
    "                self.active_channel = channel\n",
    "            else:\n",
    "                print(\"Channel must be in the range [1, 10].\")\n",
    "        else:\n",
    "            print(\"TV is off. Turn it on to change the channel.\")\n",
    "\n",
    "    def set_input(self, value):\n",
    "        if self.on:\n",
    "            valid_inputs = [\"Anthena\", \"HDMI1\", \"HDMI2\", \"HDMI3\"]\n",
    "            if value in valid_inputs:\n",
    "                self.input = value\n",
    "            else:\n",
    "                print(\"Invalid input. Choose from Anthena, HDMI1, HDMI2, HDMI3.\")\n",
    "        else:\n",
    "            print(\"TV is off. Turn it on to change the input.\")\n",
    "\n",
    "\n"
   ]
  },
  {
   "cell_type": "markdown",
   "id": "45b4cbba",
   "metadata": {},
   "source": [
    "creation & usage"
   ]
  },
  {
   "cell_type": "code",
   "execution_count": 2,
   "id": "103426f9",
   "metadata": {},
   "outputs": [],
   "source": [
    "tv = TV(size=55, input='HDMI1') # create new object instance of the TV class\n",
    "\n",
    "#methods usage\n",
    "tv.switch_on() # method switch_on()\n",
    "tv.set_volume(75)\n",
    "tv.change_channel(5)\n",
    "tv.set_input('Anthena')\n",
    "tv.switch_off()"
   ]
  },
  {
   "cell_type": "code",
   "execution_count": null,
   "id": "4b4d1ebc",
   "metadata": {},
   "outputs": [],
   "source": []
  }
 ],
 "metadata": {
  "kernelspec": {
   "display_name": "Python 3 (ipykernel)",
   "language": "python",
   "name": "python3"
  },
  "language_info": {
   "codemirror_mode": {
    "name": "ipython",
    "version": 3
   },
   "file_extension": ".py",
   "mimetype": "text/x-python",
   "name": "python",
   "nbconvert_exporter": "python",
   "pygments_lexer": "ipython3",
   "version": "3.11.5"
  }
 },
 "nbformat": 4,
 "nbformat_minor": 5
}
